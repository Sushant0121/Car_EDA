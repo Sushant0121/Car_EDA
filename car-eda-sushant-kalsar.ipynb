{
 "cells": [
  {
   "cell_type": "code",
   "execution_count": 1,
   "id": "148b8367",
   "metadata": {
    "execution": {
     "iopub.execute_input": "2025-09-05T08:12:33.392686Z",
     "iopub.status.busy": "2025-09-05T08:12:33.392382Z",
     "iopub.status.idle": "2025-09-05T08:12:35.172068Z",
     "shell.execute_reply": "2025-09-05T08:12:35.171263Z"
    },
    "papermill": {
     "duration": 1.790546,
     "end_time": "2025-09-05T08:12:35.173626",
     "exception": false,
     "start_time": "2025-09-05T08:12:33.383080",
     "status": "completed"
    },
    "tags": []
   },
   "outputs": [],
   "source": [
    "import pandas as pd"
   ]
  },
  {
   "cell_type": "code",
   "execution_count": 2,
   "id": "dacd073e",
   "metadata": {
    "execution": {
     "iopub.execute_input": "2025-09-05T08:12:35.190094Z",
     "iopub.status.busy": "2025-09-05T08:12:35.189679Z",
     "iopub.status.idle": "2025-09-05T08:12:35.250062Z",
     "shell.execute_reply": "2025-09-05T08:12:35.249280Z"
    },
    "papermill": {
     "duration": 0.069974,
     "end_time": "2025-09-05T08:12:35.251469",
     "exception": false,
     "start_time": "2025-09-05T08:12:35.181495",
     "status": "completed"
    },
    "tags": []
   },
   "outputs": [
    {
     "data": {
      "text/html": [
       "<div>\n",
       "<style scoped>\n",
       "    .dataframe tbody tr th:only-of-type {\n",
       "        vertical-align: middle;\n",
       "    }\n",
       "\n",
       "    .dataframe tbody tr th {\n",
       "        vertical-align: top;\n",
       "    }\n",
       "\n",
       "    .dataframe thead th {\n",
       "        text-align: right;\n",
       "    }\n",
       "</style>\n",
       "<table border=\"1\" class=\"dataframe\">\n",
       "  <thead>\n",
       "    <tr style=\"text-align: right;\">\n",
       "      <th></th>\n",
       "      <th>name</th>\n",
       "      <th>year</th>\n",
       "      <th>selling_price</th>\n",
       "      <th>km_driven</th>\n",
       "      <th>fuel</th>\n",
       "      <th>seller_type</th>\n",
       "      <th>transmission</th>\n",
       "      <th>owner</th>\n",
       "    </tr>\n",
       "  </thead>\n",
       "  <tbody>\n",
       "    <tr>\n",
       "      <th>0</th>\n",
       "      <td>Maruti 800 AC</td>\n",
       "      <td>2007</td>\n",
       "      <td>60000</td>\n",
       "      <td>70000</td>\n",
       "      <td>Petrol</td>\n",
       "      <td>Individual</td>\n",
       "      <td>Manual</td>\n",
       "      <td>First Owner</td>\n",
       "    </tr>\n",
       "    <tr>\n",
       "      <th>1</th>\n",
       "      <td>Maruti Wagon R LXI Minor</td>\n",
       "      <td>2007</td>\n",
       "      <td>135000</td>\n",
       "      <td>50000</td>\n",
       "      <td>Petrol</td>\n",
       "      <td>Individual</td>\n",
       "      <td>Manual</td>\n",
       "      <td>First Owner</td>\n",
       "    </tr>\n",
       "    <tr>\n",
       "      <th>2</th>\n",
       "      <td>Hyundai Verna 1.6 SX</td>\n",
       "      <td>2012</td>\n",
       "      <td>600000</td>\n",
       "      <td>100000</td>\n",
       "      <td>Diesel</td>\n",
       "      <td>Individual</td>\n",
       "      <td>Manual</td>\n",
       "      <td>First Owner</td>\n",
       "    </tr>\n",
       "    <tr>\n",
       "      <th>3</th>\n",
       "      <td>Datsun RediGO T Option</td>\n",
       "      <td>2017</td>\n",
       "      <td>250000</td>\n",
       "      <td>46000</td>\n",
       "      <td>Petrol</td>\n",
       "      <td>Individual</td>\n",
       "      <td>Manual</td>\n",
       "      <td>First Owner</td>\n",
       "    </tr>\n",
       "    <tr>\n",
       "      <th>4</th>\n",
       "      <td>Honda Amaze VX i-DTEC</td>\n",
       "      <td>2014</td>\n",
       "      <td>450000</td>\n",
       "      <td>141000</td>\n",
       "      <td>Diesel</td>\n",
       "      <td>Individual</td>\n",
       "      <td>Manual</td>\n",
       "      <td>Second Owner</td>\n",
       "    </tr>\n",
       "  </tbody>\n",
       "</table>\n",
       "</div>"
      ],
      "text/plain": [
       "                       name  year  selling_price  km_driven    fuel  \\\n",
       "0             Maruti 800 AC  2007          60000      70000  Petrol   \n",
       "1  Maruti Wagon R LXI Minor  2007         135000      50000  Petrol   \n",
       "2      Hyundai Verna 1.6 SX  2012         600000     100000  Diesel   \n",
       "3    Datsun RediGO T Option  2017         250000      46000  Petrol   \n",
       "4     Honda Amaze VX i-DTEC  2014         450000     141000  Diesel   \n",
       "\n",
       "  seller_type transmission         owner  \n",
       "0  Individual       Manual   First Owner  \n",
       "1  Individual       Manual   First Owner  \n",
       "2  Individual       Manual   First Owner  \n",
       "3  Individual       Manual   First Owner  \n",
       "4  Individual       Manual  Second Owner  "
      ]
     },
     "execution_count": 2,
     "metadata": {},
     "output_type": "execute_result"
    }
   ],
   "source": [
    "df = pd.read_csv('/kaggle/input/car-dataset/CAR DETAILS FROM CAR DEKHO.csv')\n",
    "df.head()"
   ]
  },
  {
   "cell_type": "code",
   "execution_count": 3,
   "id": "7e33f8bd",
   "metadata": {
    "execution": {
     "iopub.execute_input": "2025-09-05T08:12:35.269587Z",
     "iopub.status.busy": "2025-09-05T08:12:35.268809Z",
     "iopub.status.idle": "2025-09-05T08:12:35.292012Z",
     "shell.execute_reply": "2025-09-05T08:12:35.291205Z"
    },
    "papermill": {
     "duration": 0.034296,
     "end_time": "2025-09-05T08:12:35.293750",
     "exception": false,
     "start_time": "2025-09-05T08:12:35.259454",
     "status": "completed"
    },
    "tags": []
   },
   "outputs": [
    {
     "name": "stdout",
     "output_type": "stream",
     "text": [
      "<class 'pandas.core.frame.DataFrame'>\n",
      "RangeIndex: 4340 entries, 0 to 4339\n",
      "Data columns (total 8 columns):\n",
      " #   Column         Non-Null Count  Dtype \n",
      "---  ------         --------------  ----- \n",
      " 0   name           4340 non-null   object\n",
      " 1   year           4340 non-null   int64 \n",
      " 2   selling_price  4340 non-null   int64 \n",
      " 3   km_driven      4340 non-null   int64 \n",
      " 4   fuel           4340 non-null   object\n",
      " 5   seller_type    4340 non-null   object\n",
      " 6   transmission   4340 non-null   object\n",
      " 7   owner          4340 non-null   object\n",
      "dtypes: int64(3), object(5)\n",
      "memory usage: 271.4+ KB\n"
     ]
    }
   ],
   "source": [
    "df.info()"
   ]
  },
  {
   "cell_type": "code",
   "execution_count": 4,
   "id": "6e084d63",
   "metadata": {
    "execution": {
     "iopub.execute_input": "2025-09-05T08:12:35.310544Z",
     "iopub.status.busy": "2025-09-05T08:12:35.309940Z",
     "iopub.status.idle": "2025-09-05T08:12:35.315032Z",
     "shell.execute_reply": "2025-09-05T08:12:35.314259Z"
    },
    "papermill": {
     "duration": 0.014893,
     "end_time": "2025-09-05T08:12:35.316285",
     "exception": false,
     "start_time": "2025-09-05T08:12:35.301392",
     "status": "completed"
    },
    "tags": []
   },
   "outputs": [
    {
     "data": {
      "text/plain": [
       "4340"
      ]
     },
     "execution_count": 4,
     "metadata": {},
     "output_type": "execute_result"
    }
   ],
   "source": [
    "len(df)"
   ]
  },
  {
   "cell_type": "code",
   "execution_count": 5,
   "id": "183bd336",
   "metadata": {
    "execution": {
     "iopub.execute_input": "2025-09-05T08:12:35.333134Z",
     "iopub.status.busy": "2025-09-05T08:12:35.332418Z",
     "iopub.status.idle": "2025-09-05T08:12:35.338044Z",
     "shell.execute_reply": "2025-09-05T08:12:35.337086Z"
    },
    "papermill": {
     "duration": 0.015256,
     "end_time": "2025-09-05T08:12:35.339285",
     "exception": false,
     "start_time": "2025-09-05T08:12:35.324029",
     "status": "completed"
    },
    "tags": []
   },
   "outputs": [
    {
     "data": {
      "text/plain": [
       "(4340, 8)"
      ]
     },
     "execution_count": 5,
     "metadata": {},
     "output_type": "execute_result"
    }
   ],
   "source": [
    "df.shape"
   ]
  },
  {
   "cell_type": "markdown",
   "id": "61688e43",
   "metadata": {
    "papermill": {
     "duration": 0.00764,
     "end_time": "2025-09-05T08:12:35.354869",
     "exception": false,
     "start_time": "2025-09-05T08:12:35.347229",
     "status": "completed"
    },
    "tags": []
   },
   "source": [
    "The dataset contains 4340 rows and 8 columns. "
   ]
  },
  {
   "cell_type": "code",
   "execution_count": 6,
   "id": "1ede13e8",
   "metadata": {
    "execution": {
     "iopub.execute_input": "2025-09-05T08:12:35.371401Z",
     "iopub.status.busy": "2025-09-05T08:12:35.371094Z",
     "iopub.status.idle": "2025-09-05T08:12:35.397564Z",
     "shell.execute_reply": "2025-09-05T08:12:35.396765Z"
    },
    "papermill": {
     "duration": 0.036435,
     "end_time": "2025-09-05T08:12:35.398936",
     "exception": false,
     "start_time": "2025-09-05T08:12:35.362501",
     "status": "completed"
    },
    "tags": []
   },
   "outputs": [
    {
     "data": {
      "text/html": [
       "<div>\n",
       "<style scoped>\n",
       "    .dataframe tbody tr th:only-of-type {\n",
       "        vertical-align: middle;\n",
       "    }\n",
       "\n",
       "    .dataframe tbody tr th {\n",
       "        vertical-align: top;\n",
       "    }\n",
       "\n",
       "    .dataframe thead th {\n",
       "        text-align: right;\n",
       "    }\n",
       "</style>\n",
       "<table border=\"1\" class=\"dataframe\">\n",
       "  <thead>\n",
       "    <tr style=\"text-align: right;\">\n",
       "      <th></th>\n",
       "      <th>year</th>\n",
       "      <th>selling_price</th>\n",
       "      <th>km_driven</th>\n",
       "    </tr>\n",
       "  </thead>\n",
       "  <tbody>\n",
       "    <tr>\n",
       "      <th>count</th>\n",
       "      <td>4340.000000</td>\n",
       "      <td>4.340000e+03</td>\n",
       "      <td>4340.000000</td>\n",
       "    </tr>\n",
       "    <tr>\n",
       "      <th>mean</th>\n",
       "      <td>2013.090783</td>\n",
       "      <td>5.041273e+05</td>\n",
       "      <td>66215.777419</td>\n",
       "    </tr>\n",
       "    <tr>\n",
       "      <th>std</th>\n",
       "      <td>4.215344</td>\n",
       "      <td>5.785487e+05</td>\n",
       "      <td>46644.102194</td>\n",
       "    </tr>\n",
       "    <tr>\n",
       "      <th>min</th>\n",
       "      <td>1992.000000</td>\n",
       "      <td>2.000000e+04</td>\n",
       "      <td>1.000000</td>\n",
       "    </tr>\n",
       "    <tr>\n",
       "      <th>25%</th>\n",
       "      <td>2011.000000</td>\n",
       "      <td>2.087498e+05</td>\n",
       "      <td>35000.000000</td>\n",
       "    </tr>\n",
       "    <tr>\n",
       "      <th>50%</th>\n",
       "      <td>2014.000000</td>\n",
       "      <td>3.500000e+05</td>\n",
       "      <td>60000.000000</td>\n",
       "    </tr>\n",
       "    <tr>\n",
       "      <th>75%</th>\n",
       "      <td>2016.000000</td>\n",
       "      <td>6.000000e+05</td>\n",
       "      <td>90000.000000</td>\n",
       "    </tr>\n",
       "    <tr>\n",
       "      <th>max</th>\n",
       "      <td>2020.000000</td>\n",
       "      <td>8.900000e+06</td>\n",
       "      <td>806599.000000</td>\n",
       "    </tr>\n",
       "  </tbody>\n",
       "</table>\n",
       "</div>"
      ],
      "text/plain": [
       "              year  selling_price      km_driven\n",
       "count  4340.000000   4.340000e+03    4340.000000\n",
       "mean   2013.090783   5.041273e+05   66215.777419\n",
       "std       4.215344   5.785487e+05   46644.102194\n",
       "min    1992.000000   2.000000e+04       1.000000\n",
       "25%    2011.000000   2.087498e+05   35000.000000\n",
       "50%    2014.000000   3.500000e+05   60000.000000\n",
       "75%    2016.000000   6.000000e+05   90000.000000\n",
       "max    2020.000000   8.900000e+06  806599.000000"
      ]
     },
     "execution_count": 6,
     "metadata": {},
     "output_type": "execute_result"
    }
   ],
   "source": [
    "df.describe()"
   ]
  },
  {
   "cell_type": "markdown",
   "id": "c51d894a",
   "metadata": {
    "papermill": {
     "duration": 0.007596,
     "end_time": "2025-09-05T08:12:35.414540",
     "exception": false,
     "start_time": "2025-09-05T08:12:35.406944",
     "status": "completed"
    },
    "tags": []
   },
   "source": [
    "This code gives us numeric values."
   ]
  },
  {
   "cell_type": "code",
   "execution_count": 7,
   "id": "f34ba221",
   "metadata": {
    "execution": {
     "iopub.execute_input": "2025-09-05T08:12:35.431387Z",
     "iopub.status.busy": "2025-09-05T08:12:35.431105Z",
     "iopub.status.idle": "2025-09-05T08:12:35.438872Z",
     "shell.execute_reply": "2025-09-05T08:12:35.438146Z"
    },
    "papermill": {
     "duration": 0.017802,
     "end_time": "2025-09-05T08:12:35.440157",
     "exception": false,
     "start_time": "2025-09-05T08:12:35.422355",
     "status": "completed"
    },
    "tags": []
   },
   "outputs": [
    {
     "data": {
      "text/plain": [
       "name             0\n",
       "year             0\n",
       "selling_price    0\n",
       "km_driven        0\n",
       "fuel             0\n",
       "seller_type      0\n",
       "transmission     0\n",
       "owner            0\n",
       "dtype: int64"
      ]
     },
     "execution_count": 7,
     "metadata": {},
     "output_type": "execute_result"
    }
   ],
   "source": [
    "df.isnull().sum()"
   ]
  },
  {
   "cell_type": "code",
   "execution_count": 8,
   "id": "5200287b",
   "metadata": {
    "execution": {
     "iopub.execute_input": "2025-09-05T08:12:35.457273Z",
     "iopub.status.busy": "2025-09-05T08:12:35.456997Z",
     "iopub.status.idle": "2025-09-05T08:12:35.462406Z",
     "shell.execute_reply": "2025-09-05T08:12:35.461594Z"
    },
    "papermill": {
     "duration": 0.015464,
     "end_time": "2025-09-05T08:12:35.463642",
     "exception": false,
     "start_time": "2025-09-05T08:12:35.448178",
     "status": "completed"
    },
    "tags": []
   },
   "outputs": [
    {
     "data": {
      "text/plain": [
       "Index(['name', 'year', 'selling_price', 'km_driven', 'fuel', 'seller_type',\n",
       "       'transmission', 'owner'],\n",
       "      dtype='object')"
      ]
     },
     "execution_count": 8,
     "metadata": {},
     "output_type": "execute_result"
    }
   ],
   "source": [
    "df.columns"
   ]
  },
  {
   "cell_type": "code",
   "execution_count": 9,
   "id": "21d81cb7",
   "metadata": {
    "execution": {
     "iopub.execute_input": "2025-09-05T08:12:35.481323Z",
     "iopub.status.busy": "2025-09-05T08:12:35.480618Z",
     "iopub.status.idle": "2025-09-05T08:12:35.492713Z",
     "shell.execute_reply": "2025-09-05T08:12:35.491676Z"
    },
    "papermill": {
     "duration": 0.022241,
     "end_time": "2025-09-05T08:12:35.493985",
     "exception": false,
     "start_time": "2025-09-05T08:12:35.471744",
     "status": "completed"
    },
    "tags": []
   },
   "outputs": [
    {
     "data": {
      "text/plain": [
       "6104"
      ]
     },
     "execution_count": 9,
     "metadata": {},
     "output_type": "execute_result"
    }
   ],
   "source": [
    "df[df.duplicated()].count().sum()"
   ]
  },
  {
   "cell_type": "markdown",
   "id": "5cd1f0a4",
   "metadata": {
    "papermill": {
     "duration": 0.007779,
     "end_time": "2025-09-05T08:12:35.510022",
     "exception": false,
     "start_time": "2025-09-05T08:12:35.502243",
     "status": "completed"
    },
    "tags": []
   },
   "source": [
    "This code returns the total number of duplicate rows present in the dataset."
   ]
  },
  {
   "cell_type": "code",
   "execution_count": 10,
   "id": "9a75f5bd",
   "metadata": {
    "execution": {
     "iopub.execute_input": "2025-09-05T08:12:35.527327Z",
     "iopub.status.busy": "2025-09-05T08:12:35.527049Z",
     "iopub.status.idle": "2025-09-05T08:12:35.534268Z",
     "shell.execute_reply": "2025-09-05T08:12:35.533417Z"
    },
    "papermill": {
     "duration": 0.017776,
     "end_time": "2025-09-05T08:12:35.535859",
     "exception": false,
     "start_time": "2025-09-05T08:12:35.518083",
     "status": "completed"
    },
    "tags": []
   },
   "outputs": [],
   "source": [
    "df.drop_duplicates(inplace=True)"
   ]
  },
  {
   "cell_type": "markdown",
   "id": "754cb152",
   "metadata": {
    "papermill": {
     "duration": 0.008346,
     "end_time": "2025-09-05T08:12:35.552685",
     "exception": false,
     "start_time": "2025-09-05T08:12:35.544339",
     "status": "completed"
    },
    "tags": []
   },
   "source": [
    "This code removes all the duplicate rows from the dataset and updates the DataFrame in place without creating a new one."
   ]
  },
  {
   "cell_type": "code",
   "execution_count": 11,
   "id": "0d705395",
   "metadata": {
    "execution": {
     "iopub.execute_input": "2025-09-05T08:12:35.570033Z",
     "iopub.status.busy": "2025-09-05T08:12:35.569749Z",
     "iopub.status.idle": "2025-09-05T08:12:35.578358Z",
     "shell.execute_reply": "2025-09-05T08:12:35.577742Z"
    },
    "papermill": {
     "duration": 0.018711,
     "end_time": "2025-09-05T08:12:35.579534",
     "exception": false,
     "start_time": "2025-09-05T08:12:35.560823",
     "status": "completed"
    },
    "tags": []
   },
   "outputs": [
    {
     "data": {
      "text/plain": [
       "0"
      ]
     },
     "execution_count": 11,
     "metadata": {},
     "output_type": "execute_result"
    }
   ],
   "source": [
    "df[df.duplicated].count().sum()"
   ]
  },
  {
   "cell_type": "markdown",
   "id": "c8dacac6",
   "metadata": {
    "papermill": {
     "duration": 0.008281,
     "end_time": "2025-09-05T08:12:35.656135",
     "exception": false,
     "start_time": "2025-09-05T08:12:35.647854",
     "status": "completed"
    },
    "tags": []
   },
   "source": [
    "This will give the total number of duplicate rows in the dataset."
   ]
  },
  {
   "cell_type": "markdown",
   "id": "03a177dd",
   "metadata": {
    "papermill": {
     "duration": 0.008069,
     "end_time": "2025-09-05T08:12:35.672587",
     "exception": false,
     "start_time": "2025-09-05T08:12:35.664518",
     "status": "completed"
    },
    "tags": []
   },
   "source": [
    "**Importing Libraries**"
   ]
  },
  {
   "cell_type": "code",
   "execution_count": 12,
   "id": "bc6a4c1d",
   "metadata": {
    "execution": {
     "iopub.execute_input": "2025-09-05T08:12:35.690861Z",
     "iopub.status.busy": "2025-09-05T08:12:35.690077Z",
     "iopub.status.idle": "2025-09-05T08:12:37.330282Z",
     "shell.execute_reply": "2025-09-05T08:12:37.329637Z"
    },
    "papermill": {
     "duration": 1.651043,
     "end_time": "2025-09-05T08:12:37.331844",
     "exception": false,
     "start_time": "2025-09-05T08:12:35.680801",
     "status": "completed"
    },
    "tags": []
   },
   "outputs": [],
   "source": [
    "import numpy as np\n",
    "import pandas as pd\n",
    "%matplotlib inline\n",
    "import matplotlib.pyplot as plt\n",
    "import seaborn as sns"
   ]
  },
  {
   "cell_type": "code",
   "execution_count": 13,
   "id": "8d239826",
   "metadata": {
    "execution": {
     "iopub.execute_input": "2025-09-05T08:12:37.350221Z",
     "iopub.status.busy": "2025-09-05T08:12:37.349727Z",
     "iopub.status.idle": "2025-09-05T08:12:37.355570Z",
     "shell.execute_reply": "2025-09-05T08:12:37.354749Z"
    },
    "papermill": {
     "duration": 0.016369,
     "end_time": "2025-09-05T08:12:37.356782",
     "exception": false,
     "start_time": "2025-09-05T08:12:37.340413",
     "status": "completed"
    },
    "tags": []
   },
   "outputs": [
    {
     "data": {
      "text/plain": [
       "3577"
      ]
     },
     "execution_count": 13,
     "metadata": {},
     "output_type": "execute_result"
    }
   ],
   "source": [
    "df['owner'].count()"
   ]
  },
  {
   "cell_type": "code",
   "execution_count": 14,
   "id": "9dbba0f1",
   "metadata": {
    "execution": {
     "iopub.execute_input": "2025-09-05T08:12:37.375157Z",
     "iopub.status.busy": "2025-09-05T08:12:37.374402Z",
     "iopub.status.idle": "2025-09-05T08:12:37.380397Z",
     "shell.execute_reply": "2025-09-05T08:12:37.379596Z"
    },
    "papermill": {
     "duration": 0.016368,
     "end_time": "2025-09-05T08:12:37.381634",
     "exception": false,
     "start_time": "2025-09-05T08:12:37.365266",
     "status": "completed"
    },
    "tags": []
   },
   "outputs": [
    {
     "data": {
      "text/plain": [
       "array(['First Owner', 'Second Owner', 'Fourth & Above Owner',\n",
       "       'Third Owner', 'Test Drive Car'], dtype=object)"
      ]
     },
     "execution_count": 14,
     "metadata": {},
     "output_type": "execute_result"
    }
   ],
   "source": [
    "df['owner'].unique()"
   ]
  },
  {
   "cell_type": "code",
   "execution_count": 15,
   "id": "84887e20",
   "metadata": {
    "execution": {
     "iopub.execute_input": "2025-09-05T08:12:37.399949Z",
     "iopub.status.busy": "2025-09-05T08:12:37.399241Z",
     "iopub.status.idle": "2025-09-05T08:12:37.645077Z",
     "shell.execute_reply": "2025-09-05T08:12:37.644223Z"
    },
    "papermill": {
     "duration": 0.256609,
     "end_time": "2025-09-05T08:12:37.646754",
     "exception": false,
     "start_time": "2025-09-05T08:12:37.390145",
     "status": "completed"
    },
    "tags": []
   },
   "outputs": [
    {
     "data": {
      "text/plain": [
       "(array([0, 1, 2, 3, 4]),\n",
       " [Text(0, 0, 'First Owner'),\n",
       "  Text(1, 0, 'Second Owner'),\n",
       "  Text(2, 0, 'Fourth & Above Owner'),\n",
       "  Text(3, 0, 'Third Owner'),\n",
       "  Text(4, 0, 'Test Drive Car')])"
      ]
     },
     "execution_count": 15,
     "metadata": {},
     "output_type": "execute_result"
    },
    {
     "data": {
      "image/png": "[encoded data removed]",
      "text/plain": [
       "<Figure size 640x480 with 1 Axes>"
      ]
     },
     "metadata": {},
     "output_type": "display_data"
    }
   ],
   "source": [
    "sns.countplot(x='owner', data=df)\n",
    "plt.xticks(rotation=90)"
   ]
  },
  {
   "cell_type": "markdown",
   "id": "84e68312",
   "metadata": {
    "papermill": {
     "duration": 0.008763,
     "end_time": "2025-09-05T08:12:37.664817",
     "exception": false,
     "start_time": "2025-09-05T08:12:37.656054",
     "status": "completed"
    },
    "tags": []
   },
   "source": [
    "This code shows the distribution of cars across 5 owner categories: First, Second, Third, Fourth & Above, and Test Drive Car."
   ]
  },
  {
   "cell_type": "code",
   "execution_count": 16,
   "id": "7ab17b85",
   "metadata": {
    "execution": {
     "iopub.execute_input": "2025-09-05T08:12:37.684346Z",
     "iopub.status.busy": "2025-09-05T08:12:37.683540Z",
     "iopub.status.idle": "2025-09-05T08:12:37.693302Z",
     "shell.execute_reply": "2025-09-05T08:12:37.692516Z"
    },
    "papermill": {
     "duration": 0.020944,
     "end_time": "2025-09-05T08:12:37.694671",
     "exception": false,
     "start_time": "2025-09-05T08:12:37.673727",
     "status": "completed"
    },
    "tags": []
   },
   "outputs": [
    {
     "data": {
      "text/plain": [
       "owner                 year\n",
       "First Owner           2017    316\n",
       "                      2018    276\n",
       "                      2015    242\n",
       "                      2016    234\n",
       "                      2014    196\n",
       "                             ... \n",
       "Fourth & Above Owner  2015      1\n",
       "                      2001      1\n",
       "                      1992      1\n",
       "First Owner           1999      1\n",
       "Third Owner           2019      1\n",
       "Name: name, Length: 97, dtype: int64"
      ]
     },
     "execution_count": 16,
     "metadata": {},
     "output_type": "execute_result"
    }
   ],
   "source": [
    "a = df.groupby(['owner','year'])['name'].count()\n",
    "a.sort_values(ascending = False)"
   ]
  },
  {
   "cell_type": "markdown",
   "id": "53df4428",
   "metadata": {
    "papermill": {
     "duration": 0.008816,
     "end_time": "2025-09-05T08:12:37.712715",
     "exception": false,
     "start_time": "2025-09-05T08:12:37.703899",
     "status": "completed"
    },
    "tags": []
   },
   "source": [
    "This code groups the dataset by owner and year, counts how many cars (name) fall into each group, and then sorts the result in descending order to show the most frequent combinations first."
   ]
  },
  {
   "cell_type": "code",
   "execution_count": 17,
   "id": "cec2ec7a",
   "metadata": {
    "execution": {
     "iopub.execute_input": "2025-09-05T08:12:37.731905Z",
     "iopub.status.busy": "2025-09-05T08:12:37.731504Z",
     "iopub.status.idle": "2025-09-05T08:12:37.740838Z",
     "shell.execute_reply": "2025-09-05T08:12:37.740065Z"
    },
    "papermill": {
     "duration": 0.020507,
     "end_time": "2025-09-05T08:12:37.742164",
     "exception": false,
     "start_time": "2025-09-05T08:12:37.721657",
     "status": "completed"
    },
    "tags": []
   },
   "outputs": [
    {
     "data": {
      "text/plain": [
       "fuel      year\n",
       "Diesel    2012    225\n",
       "          2013    201\n",
       "          2014    200\n",
       "          2015    188\n",
       "Petrol    2017    173\n",
       "                 ... \n",
       "Diesel    2000      1\n",
       "          1999      1\n",
       "          1997      1\n",
       "CNG       2009      1\n",
       "Electric  2006      1\n",
       "Name: name, Length: 75, dtype: int64"
      ]
     },
     "execution_count": 17,
     "metadata": {},
     "output_type": "execute_result"
    }
   ],
   "source": [
    "s = df.groupby(['fuel', 'year'])['name'].count()\n",
    "s.sort_values(ascending = False)"
   ]
  },
  {
   "cell_type": "markdown",
   "id": "67730cb1",
   "metadata": {
    "papermill": {
     "duration": 0.009366,
     "end_time": "2025-09-05T08:12:37.761019",
     "exception": false,
     "start_time": "2025-09-05T08:12:37.751653",
     "status": "completed"
    },
    "tags": []
   },
   "source": [
    "This code groups the dataset by fuel type and year, counts how many cars (name) are in each group, and then sorts them in descending order to highlight the most common fuel–year combinations."
   ]
  },
  {
   "cell_type": "code",
   "execution_count": 18,
   "id": "535b3085",
   "metadata": {
    "execution": {
     "iopub.execute_input": "2025-09-05T08:12:37.782027Z",
     "iopub.status.busy": "2025-09-05T08:12:37.781732Z",
     "iopub.status.idle": "2025-09-05T08:12:37.787293Z",
     "shell.execute_reply": "2025-09-05T08:12:37.786621Z"
    },
    "papermill": {
     "duration": 0.01762,
     "end_time": "2025-09-05T08:12:37.788575",
     "exception": false,
     "start_time": "2025-09-05T08:12:37.770955",
     "status": "completed"
    },
    "tags": []
   },
   "outputs": [
    {
     "data": {
      "text/plain": [
       "3577"
      ]
     },
     "execution_count": 18,
     "metadata": {},
     "output_type": "execute_result"
    }
   ],
   "source": [
    "df['name'].count()"
   ]
  },
  {
   "cell_type": "code",
   "execution_count": 19,
   "id": "89e7a4fa",
   "metadata": {
    "execution": {
     "iopub.execute_input": "2025-09-05T08:12:37.808518Z",
     "iopub.status.busy": "2025-09-05T08:12:37.808211Z",
     "iopub.status.idle": "2025-09-05T08:12:37.816560Z",
     "shell.execute_reply": "2025-09-05T08:12:37.815898Z"
    },
    "papermill": {
     "duration": 0.019957,
     "end_time": "2025-09-05T08:12:37.817892",
     "exception": false,
     "start_time": "2025-09-05T08:12:37.797935",
     "status": "completed"
    },
    "tags": []
   },
   "outputs": [
    {
     "data": {
      "text/plain": [
       "0        Maruti\n",
       "1        Maruti\n",
       "2       Hyundai\n",
       "3        Datsun\n",
       "4         Honda\n",
       "         ...   \n",
       "4335    Hyundai\n",
       "4336    Hyundai\n",
       "4337     Maruti\n",
       "4338    Hyundai\n",
       "4339    Renault\n",
       "Name: name, Length: 3577, dtype: object"
      ]
     },
     "execution_count": 19,
     "metadata": {},
     "output_type": "execute_result"
    }
   ],
   "source": [
    "df['name'].apply(lambda x:x.split(' ')[0])"
   ]
  },
  {
   "cell_type": "markdown",
   "id": "f0058559",
   "metadata": {
    "papermill": {
     "duration": 0.009254,
     "end_time": "2025-09-05T08:12:37.836934",
     "exception": false,
     "start_time": "2025-09-05T08:12:37.827680",
     "status": "completed"
    },
    "tags": []
   },
   "source": [
    "This code takes the name column and extracts only the first word (usually the car brand, like Maruti, Hyundai, Honda, etc.) from each entry."
   ]
  },
  {
   "cell_type": "code",
   "execution_count": 20,
   "id": "3d79a827",
   "metadata": {
    "execution": {
     "iopub.execute_input": "2025-09-05T08:12:37.857069Z",
     "iopub.status.busy": "2025-09-05T08:12:37.856773Z",
     "iopub.status.idle": "2025-09-05T08:12:37.863798Z",
     "shell.execute_reply": "2025-09-05T08:12:37.862995Z"
    },
    "papermill": {
     "duration": 0.018905,
     "end_time": "2025-09-05T08:12:37.865201",
     "exception": false,
     "start_time": "2025-09-05T08:12:37.846296",
     "status": "completed"
    },
    "tags": []
   },
   "outputs": [],
   "source": [
    "df['brand'] = df['name'].apply(lambda x:x.split(' ')[0])"
   ]
  },
  {
   "cell_type": "markdown",
   "id": "2204a40f",
   "metadata": {
    "papermill": {
     "duration": 0.009248,
     "end_time": "2025-09-05T08:12:37.883875",
     "exception": false,
     "start_time": "2025-09-05T08:12:37.874627",
     "status": "completed"
    },
    "tags": []
   },
   "source": [
    "This code creates a new column brand in the dataset, which stores the first word from the car name (i.e., the car’s brand like Maruti, Hyundai, Honda, etc.)."
   ]
  },
  {
   "cell_type": "code",
   "execution_count": 21,
   "id": "56c2ecdd",
   "metadata": {
    "execution": {
     "iopub.execute_input": "2025-09-05T08:12:37.904795Z",
     "iopub.status.busy": "2025-09-05T08:12:37.904029Z",
     "iopub.status.idle": "2025-09-05T08:12:37.910944Z",
     "shell.execute_reply": "2025-09-05T08:12:37.910277Z"
    },
    "papermill": {
     "duration": 0.018445,
     "end_time": "2025-09-05T08:12:37.912120",
     "exception": false,
     "start_time": "2025-09-05T08:12:37.893675",
     "status": "completed"
    },
    "tags": []
   },
   "outputs": [],
   "source": [
    "df['model'] = df['name'].apply(lambda x:' '.join(x.split(' ')[:1]))"
   ]
  },
  {
   "cell_type": "markdown",
   "id": "5decacb4",
   "metadata": {
    "papermill": {
     "duration": 0.009174,
     "end_time": "2025-09-05T08:12:37.930785",
     "exception": false,
     "start_time": "2025-09-05T08:12:37.921611",
     "status": "completed"
    },
    "tags": []
   },
   "source": [
    "This code creates a new column model, but it currently stores only the first word (brand) from the car name."
   ]
  },
  {
   "cell_type": "code",
   "execution_count": 22,
   "id": "e591470a",
   "metadata": {
    "execution": {
     "iopub.execute_input": "2025-09-05T08:12:37.951081Z",
     "iopub.status.busy": "2025-09-05T08:12:37.950781Z",
     "iopub.status.idle": "2025-09-05T08:12:37.965378Z",
     "shell.execute_reply": "2025-09-05T08:12:37.964605Z"
    },
    "papermill": {
     "duration": 0.026771,
     "end_time": "2025-09-05T08:12:37.966799",
     "exception": false,
     "start_time": "2025-09-05T08:12:37.940028",
     "status": "completed"
    },
    "tags": []
   },
   "outputs": [
    {
     "data": {
      "text/html": [
       "<div>\n",
       "<style scoped>\n",
       "    .dataframe tbody tr th:only-of-type {\n",
       "        vertical-align: middle;\n",
       "    }\n",
       "\n",
       "    .dataframe tbody tr th {\n",
       "        vertical-align: top;\n",
       "    }\n",
       "\n",
       "    .dataframe thead th {\n",
       "        text-align: right;\n",
       "    }\n",
       "</style>\n",
       "<table border=\"1\" class=\"dataframe\">\n",
       "  <thead>\n",
       "    <tr style=\"text-align: right;\">\n",
       "      <th></th>\n",
       "      <th>name</th>\n",
       "      <th>year</th>\n",
       "      <th>selling_price</th>\n",
       "      <th>km_driven</th>\n",
       "      <th>fuel</th>\n",
       "      <th>seller_type</th>\n",
       "      <th>transmission</th>\n",
       "      <th>owner</th>\n",
       "      <th>brand</th>\n",
       "      <th>model</th>\n",
       "    </tr>\n",
       "  </thead>\n",
       "  <tbody>\n",
       "    <tr>\n",
       "      <th>0</th>\n",
       "      <td>Maruti 800 AC</td>\n",
       "      <td>2007</td>\n",
       "      <td>60000</td>\n",
       "      <td>70000</td>\n",
       "      <td>Petrol</td>\n",
       "      <td>Individual</td>\n",
       "      <td>Manual</td>\n",
       "      <td>First Owner</td>\n",
       "      <td>Maruti</td>\n",
       "      <td>Maruti</td>\n",
       "    </tr>\n",
       "    <tr>\n",
       "      <th>1</th>\n",
       "      <td>Maruti Wagon R LXI Minor</td>\n",
       "      <td>2007</td>\n",
       "      <td>135000</td>\n",
       "      <td>50000</td>\n",
       "      <td>Petrol</td>\n",
       "      <td>Individual</td>\n",
       "      <td>Manual</td>\n",
       "      <td>First Owner</td>\n",
       "      <td>Maruti</td>\n",
       "      <td>Maruti</td>\n",
       "    </tr>\n",
       "    <tr>\n",
       "      <th>2</th>\n",
       "      <td>Hyundai Verna 1.6 SX</td>\n",
       "      <td>2012</td>\n",
       "      <td>600000</td>\n",
       "      <td>100000</td>\n",
       "      <td>Diesel</td>\n",
       "      <td>Individual</td>\n",
       "      <td>Manual</td>\n",
       "      <td>First Owner</td>\n",
       "      <td>Hyundai</td>\n",
       "      <td>Hyundai</td>\n",
       "    </tr>\n",
       "    <tr>\n",
       "      <th>3</th>\n",
       "      <td>Datsun RediGO T Option</td>\n",
       "      <td>2017</td>\n",
       "      <td>250000</td>\n",
       "      <td>46000</td>\n",
       "      <td>Petrol</td>\n",
       "      <td>Individual</td>\n",
       "      <td>Manual</td>\n",
       "      <td>First Owner</td>\n",
       "      <td>Datsun</td>\n",
       "      <td>Datsun</td>\n",
       "    </tr>\n",
       "    <tr>\n",
       "      <th>4</th>\n",
       "      <td>Honda Amaze VX i-DTEC</td>\n",
       "      <td>2014</td>\n",
       "      <td>450000</td>\n",
       "      <td>141000</td>\n",
       "      <td>Diesel</td>\n",
       "      <td>Individual</td>\n",
       "      <td>Manual</td>\n",
       "      <td>Second Owner</td>\n",
       "      <td>Honda</td>\n",
       "      <td>Honda</td>\n",
       "    </tr>\n",
       "    <tr>\n",
       "      <th>...</th>\n",
       "      <td>...</td>\n",
       "      <td>...</td>\n",
       "      <td>...</td>\n",
       "      <td>...</td>\n",
       "      <td>...</td>\n",
       "      <td>...</td>\n",
       "      <td>...</td>\n",
       "      <td>...</td>\n",
       "      <td>...</td>\n",
       "      <td>...</td>\n",
       "    </tr>\n",
       "    <tr>\n",
       "      <th>4335</th>\n",
       "      <td>Hyundai i20 Magna 1.4 CRDi (Diesel)</td>\n",
       "      <td>2014</td>\n",
       "      <td>409999</td>\n",
       "      <td>80000</td>\n",
       "      <td>Diesel</td>\n",
       "      <td>Individual</td>\n",
       "      <td>Manual</td>\n",
       "      <td>Second Owner</td>\n",
       "      <td>Hyundai</td>\n",
       "      <td>Hyundai</td>\n",
       "    </tr>\n",
       "    <tr>\n",
       "      <th>4336</th>\n",
       "      <td>Hyundai i20 Magna 1.4 CRDi</td>\n",
       "      <td>2014</td>\n",
       "      <td>409999</td>\n",
       "      <td>80000</td>\n",
       "      <td>Diesel</td>\n",
       "      <td>Individual</td>\n",
       "      <td>Manual</td>\n",
       "      <td>Second Owner</td>\n",
       "      <td>Hyundai</td>\n",
       "      <td>Hyundai</td>\n",
       "    </tr>\n",
       "    <tr>\n",
       "      <th>4337</th>\n",
       "      <td>Maruti 800 AC BSIII</td>\n",
       "      <td>2009</td>\n",
       "      <td>110000</td>\n",
       "      <td>83000</td>\n",
       "      <td>Petrol</td>\n",
       "      <td>Individual</td>\n",
       "      <td>Manual</td>\n",
       "      <td>Second Owner</td>\n",
       "      <td>Maruti</td>\n",
       "      <td>Maruti</td>\n",
       "    </tr>\n",
       "    <tr>\n",
       "      <th>4338</th>\n",
       "      <td>Hyundai Creta 1.6 CRDi SX Option</td>\n",
       "      <td>2016</td>\n",
       "      <td>865000</td>\n",
       "      <td>90000</td>\n",
       "      <td>Diesel</td>\n",
       "      <td>Individual</td>\n",
       "      <td>Manual</td>\n",
       "      <td>First Owner</td>\n",
       "      <td>Hyundai</td>\n",
       "      <td>Hyundai</td>\n",
       "    </tr>\n",
       "    <tr>\n",
       "      <th>4339</th>\n",
       "      <td>Renault KWID RXT</td>\n",
       "      <td>2016</td>\n",
       "      <td>225000</td>\n",
       "      <td>40000</td>\n",
       "      <td>Petrol</td>\n",
       "      <td>Individual</td>\n",
       "      <td>Manual</td>\n",
       "      <td>First Owner</td>\n",
       "      <td>Renault</td>\n",
       "      <td>Renault</td>\n",
       "    </tr>\n",
       "  </tbody>\n",
       "</table>\n",
       "<p>3577 rows × 10 columns</p>\n",
       "</div>"
      ],
      "text/plain": [
       "                                     name  year  selling_price  km_driven  \\\n",
       "0                           Maruti 800 AC  2007          60000      70000   \n",
       "1                Maruti Wagon R LXI Minor  2007         135000      50000   \n",
       "2                    Hyundai Verna 1.6 SX  2012         600000     100000   \n",
       "3                  Datsun RediGO T Option  2017         250000      46000   \n",
       "4                   Honda Amaze VX i-DTEC  2014         450000     141000   \n",
       "...                                   ...   ...            ...        ...   \n",
       "4335  Hyundai i20 Magna 1.4 CRDi (Diesel)  2014         409999      80000   \n",
       "4336           Hyundai i20 Magna 1.4 CRDi  2014         409999      80000   \n",
       "4337                  Maruti 800 AC BSIII  2009         110000      83000   \n",
       "4338     Hyundai Creta 1.6 CRDi SX Option  2016         865000      90000   \n",
       "4339                     Renault KWID RXT  2016         225000      40000   \n",
       "\n",
       "        fuel seller_type transmission         owner    brand    model  \n",
       "0     Petrol  Individual       Manual   First Owner   Maruti   Maruti  \n",
       "1     Petrol  Individual       Manual   First Owner   Maruti   Maruti  \n",
       "2     Diesel  Individual       Manual   First Owner  Hyundai  Hyundai  \n",
       "3     Petrol  Individual       Manual   First Owner   Datsun   Datsun  \n",
       "4     Diesel  Individual       Manual  Second Owner    Honda    Honda  \n",
       "...      ...         ...          ...           ...      ...      ...  \n",
       "4335  Diesel  Individual       Manual  Second Owner  Hyundai  Hyundai  \n",
       "4336  Diesel  Individual       Manual  Second Owner  Hyundai  Hyundai  \n",
       "4337  Petrol  Individual       Manual  Second Owner   Maruti   Maruti  \n",
       "4338  Diesel  Individual       Manual   First Owner  Hyundai  Hyundai  \n",
       "4339  Petrol  Individual       Manual   First Owner  Renault  Renault  \n",
       "\n",
       "[3577 rows x 10 columns]"
      ]
     },
     "execution_count": 22,
     "metadata": {},
     "output_type": "execute_result"
    }
   ],
   "source": [
    "df"
   ]
  },
  {
   "cell_type": "code",
   "execution_count": 23,
   "id": "841c0e2e",
   "metadata": {
    "execution": {
     "iopub.execute_input": "2025-09-05T08:12:37.987735Z",
     "iopub.status.busy": "2025-09-05T08:12:37.987411Z",
     "iopub.status.idle": "2025-09-05T08:12:38.000552Z",
     "shell.execute_reply": "2025-09-05T08:12:37.999743Z"
    },
    "papermill": {
     "duration": 0.025306,
     "end_time": "2025-09-05T08:12:38.001989",
     "exception": false,
     "start_time": "2025-09-05T08:12:37.976683",
     "status": "completed"
    },
    "tags": []
   },
   "outputs": [
    {
     "data": {
      "text/html": [
       "<div>\n",
       "<style scoped>\n",
       "    .dataframe tbody tr th:only-of-type {\n",
       "        vertical-align: middle;\n",
       "    }\n",
       "\n",
       "    .dataframe tbody tr th {\n",
       "        vertical-align: top;\n",
       "    }\n",
       "\n",
       "    .dataframe thead th {\n",
       "        text-align: right;\n",
       "    }\n",
       "</style>\n",
       "<table border=\"1\" class=\"dataframe\">\n",
       "  <thead>\n",
       "    <tr style=\"text-align: right;\">\n",
       "      <th></th>\n",
       "      <th>year</th>\n",
       "      <th>selling_price</th>\n",
       "      <th>km_driven</th>\n",
       "      <th>fuel</th>\n",
       "      <th>seller_type</th>\n",
       "      <th>transmission</th>\n",
       "      <th>owner</th>\n",
       "      <th>brand</th>\n",
       "      <th>model</th>\n",
       "    </tr>\n",
       "  </thead>\n",
       "  <tbody>\n",
       "    <tr>\n",
       "      <th>0</th>\n",
       "      <td>2007</td>\n",
       "      <td>60000</td>\n",
       "      <td>70000</td>\n",
       "      <td>Petrol</td>\n",
       "      <td>Individual</td>\n",
       "      <td>Manual</td>\n",
       "      <td>First Owner</td>\n",
       "      <td>Maruti</td>\n",
       "      <td>Maruti</td>\n",
       "    </tr>\n",
       "    <tr>\n",
       "      <th>1</th>\n",
       "      <td>2007</td>\n",
       "      <td>135000</td>\n",
       "      <td>50000</td>\n",
       "      <td>Petrol</td>\n",
       "      <td>Individual</td>\n",
       "      <td>Manual</td>\n",
       "      <td>First Owner</td>\n",
       "      <td>Maruti</td>\n",
       "      <td>Maruti</td>\n",
       "    </tr>\n",
       "    <tr>\n",
       "      <th>2</th>\n",
       "      <td>2012</td>\n",
       "      <td>600000</td>\n",
       "      <td>100000</td>\n",
       "      <td>Diesel</td>\n",
       "      <td>Individual</td>\n",
       "      <td>Manual</td>\n",
       "      <td>First Owner</td>\n",
       "      <td>Hyundai</td>\n",
       "      <td>Hyundai</td>\n",
       "    </tr>\n",
       "    <tr>\n",
       "      <th>3</th>\n",
       "      <td>2017</td>\n",
       "      <td>250000</td>\n",
       "      <td>46000</td>\n",
       "      <td>Petrol</td>\n",
       "      <td>Individual</td>\n",
       "      <td>Manual</td>\n",
       "      <td>First Owner</td>\n",
       "      <td>Datsun</td>\n",
       "      <td>Datsun</td>\n",
       "    </tr>\n",
       "    <tr>\n",
       "      <th>4</th>\n",
       "      <td>2014</td>\n",
       "      <td>450000</td>\n",
       "      <td>141000</td>\n",
       "      <td>Diesel</td>\n",
       "      <td>Individual</td>\n",
       "      <td>Manual</td>\n",
       "      <td>Second Owner</td>\n",
       "      <td>Honda</td>\n",
       "      <td>Honda</td>\n",
       "    </tr>\n",
       "    <tr>\n",
       "      <th>...</th>\n",
       "      <td>...</td>\n",
       "      <td>...</td>\n",
       "      <td>...</td>\n",
       "      <td>...</td>\n",
       "      <td>...</td>\n",
       "      <td>...</td>\n",
       "      <td>...</td>\n",
       "      <td>...</td>\n",
       "      <td>...</td>\n",
       "    </tr>\n",
       "    <tr>\n",
       "      <th>4335</th>\n",
       "      <td>2014</td>\n",
       "      <td>409999</td>\n",
       "      <td>80000</td>\n",
       "      <td>Diesel</td>\n",
       "      <td>Individual</td>\n",
       "      <td>Manual</td>\n",
       "      <td>Second Owner</td>\n",
       "      <td>Hyundai</td>\n",
       "      <td>Hyundai</td>\n",
       "    </tr>\n",
       "    <tr>\n",
       "      <th>4336</th>\n",
       "      <td>2014</td>\n",
       "      <td>409999</td>\n",
       "      <td>80000</td>\n",
       "      <td>Diesel</td>\n",
       "      <td>Individual</td>\n",
       "      <td>Manual</td>\n",
       "      <td>Second Owner</td>\n",
       "      <td>Hyundai</td>\n",
       "      <td>Hyundai</td>\n",
       "    </tr>\n",
       "    <tr>\n",
       "      <th>4337</th>\n",
       "      <td>2009</td>\n",
       "      <td>110000</td>\n",
       "      <td>83000</td>\n",
       "      <td>Petrol</td>\n",
       "      <td>Individual</td>\n",
       "      <td>Manual</td>\n",
       "      <td>Second Owner</td>\n",
       "      <td>Maruti</td>\n",
       "      <td>Maruti</td>\n",
       "    </tr>\n",
       "    <tr>\n",
       "      <th>4338</th>\n",
       "      <td>2016</td>\n",
       "      <td>865000</td>\n",
       "      <td>90000</td>\n",
       "      <td>Diesel</td>\n",
       "      <td>Individual</td>\n",
       "      <td>Manual</td>\n",
       "      <td>First Owner</td>\n",
       "      <td>Hyundai</td>\n",
       "      <td>Hyundai</td>\n",
       "    </tr>\n",
       "    <tr>\n",
       "      <th>4339</th>\n",
       "      <td>2016</td>\n",
       "      <td>225000</td>\n",
       "      <td>40000</td>\n",
       "      <td>Petrol</td>\n",
       "      <td>Individual</td>\n",
       "      <td>Manual</td>\n",
       "      <td>First Owner</td>\n",
       "      <td>Renault</td>\n",
       "      <td>Renault</td>\n",
       "    </tr>\n",
       "  </tbody>\n",
       "</table>\n",
       "<p>3577 rows × 9 columns</p>\n",
       "</div>"
      ],
      "text/plain": [
       "      year  selling_price  km_driven    fuel seller_type transmission  \\\n",
       "0     2007          60000      70000  Petrol  Individual       Manual   \n",
       "1     2007         135000      50000  Petrol  Individual       Manual   \n",
       "2     2012         600000     100000  Diesel  Individual       Manual   \n",
       "3     2017         250000      46000  Petrol  Individual       Manual   \n",
       "4     2014         450000     141000  Diesel  Individual       Manual   \n",
       "...    ...            ...        ...     ...         ...          ...   \n",
       "4335  2014         409999      80000  Diesel  Individual       Manual   \n",
       "4336  2014         409999      80000  Diesel  Individual       Manual   \n",
       "4337  2009         110000      83000  Petrol  Individual       Manual   \n",
       "4338  2016         865000      90000  Diesel  Individual       Manual   \n",
       "4339  2016         225000      40000  Petrol  Individual       Manual   \n",
       "\n",
       "             owner    brand    model  \n",
       "0      First Owner   Maruti   Maruti  \n",
       "1      First Owner   Maruti   Maruti  \n",
       "2      First Owner  Hyundai  Hyundai  \n",
       "3      First Owner   Datsun   Datsun  \n",
       "4     Second Owner    Honda    Honda  \n",
       "...            ...      ...      ...  \n",
       "4335  Second Owner  Hyundai  Hyundai  \n",
       "4336  Second Owner  Hyundai  Hyundai  \n",
       "4337  Second Owner   Maruti   Maruti  \n",
       "4338   First Owner  Hyundai  Hyundai  \n",
       "4339   First Owner  Renault  Renault  \n",
       "\n",
       "[3577 rows x 9 columns]"
      ]
     },
     "execution_count": 23,
     "metadata": {},
     "output_type": "execute_result"
    }
   ],
   "source": [
    "df.drop(['name'], axis=1)"
   ]
  },
  {
   "cell_type": "code",
   "execution_count": 24,
   "id": "98697c66",
   "metadata": {
    "execution": {
     "iopub.execute_input": "2025-09-05T08:12:38.023818Z",
     "iopub.status.busy": "2025-09-05T08:12:38.023008Z",
     "iopub.status.idle": "2025-09-05T08:12:38.032668Z",
     "shell.execute_reply": "2025-09-05T08:12:38.031977Z"
    },
    "papermill": {
     "duration": 0.021905,
     "end_time": "2025-09-05T08:12:38.033979",
     "exception": false,
     "start_time": "2025-09-05T08:12:38.012074",
     "status": "completed"
    },
    "tags": []
   },
   "outputs": [
    {
     "data": {
      "text/plain": [
       "brand   year\n",
       "Maruti  2017    109\n",
       "        2015    100\n",
       "        2018     92\n",
       "        2014     90\n",
       "        2016     82\n",
       "               ... \n",
       "Land    2016      1\n",
       "        2012      1\n",
       "        2010      1\n",
       "Kia     2019      1\n",
       "Volvo   2018      1\n",
       "Name: brand, Length: 288, dtype: int64"
      ]
     },
     "execution_count": 24,
     "metadata": {},
     "output_type": "execute_result"
    }
   ],
   "source": [
    "a = df.groupby(['brand', 'year'])['brand'].count()\n",
    "a.sort_values(ascending=False)"
   ]
  },
  {
   "cell_type": "markdown",
   "id": "9c5ed29c",
   "metadata": {
    "papermill": {
     "duration": 0.009646,
     "end_time": "2025-09-05T08:12:38.053637",
     "exception": false,
     "start_time": "2025-09-05T08:12:38.043991",
     "status": "completed"
    },
    "tags": []
   },
   "source": [
    "This code groups the dataset by brand and year, counts how many cars belong to each group, and then sorts the result in descending order to show the most frequent brand–year combinations first."
   ]
  },
  {
   "cell_type": "code",
   "execution_count": 25,
   "id": "4a830b75",
   "metadata": {
    "execution": {
     "iopub.execute_input": "2025-09-05T08:12:38.074803Z",
     "iopub.status.busy": "2025-09-05T08:12:38.074478Z",
     "iopub.status.idle": "2025-09-05T08:12:38.084643Z",
     "shell.execute_reply": "2025-09-05T08:12:38.083856Z"
    },
    "papermill": {
     "duration": 0.022385,
     "end_time": "2025-09-05T08:12:38.086009",
     "exception": false,
     "start_time": "2025-09-05T08:12:38.063624",
     "status": "completed"
    },
    "tags": []
   },
   "outputs": [
    {
     "data": {
      "text/plain": [
       "transmission  year\n",
       "Manual        2012    314\n",
       "              2015    309\n",
       "              2014    301\n",
       "              2017    289\n",
       "              2013    278\n",
       "              2016    261\n",
       "              2018    243\n",
       "              2011    228\n",
       "              2010    200\n",
       "              2009    158\n",
       "              2019    134\n",
       "              2008    124\n",
       "              2007    112\n",
       "              2006     84\n",
       "              2005     61\n",
       "Automatic     2017     57\n",
       "              2018     52\n",
       "Manual        2020     43\n",
       "              2004     36\n",
       "Automatic     2019     28\n",
       "              2012     24\n",
       "              2015     23\n",
       "              2016     22\n",
       "Manual        2003     21\n",
       "Automatic     2014     20\n",
       "              2013     20\n",
       "              2011     19\n",
       "Manual        2002     18\n",
       "              2001     16\n",
       "              2000     12\n",
       "Automatic     2009     11\n",
       "              2010     10\n",
       "Manual        1999      9\n",
       "Automatic     2006      9\n",
       "Manual        1998      8\n",
       "Automatic     2008      5\n",
       "              2007      5\n",
       "Manual        1997      2\n",
       "              1996      2\n",
       "Automatic     2020      2\n",
       "              2004      2\n",
       "              1998      1\n",
       "Manual        1995      1\n",
       "              1992      1\n",
       "Automatic     2003      1\n",
       "              1997      1\n",
       "Name: brand, dtype: int64"
      ]
     },
     "execution_count": 25,
     "metadata": {},
     "output_type": "execute_result"
    }
   ],
   "source": [
    "a = df.groupby(['transmission', 'year'])['brand'].count()\n",
    "a.sort_values(ascending=False)"
   ]
  },
  {
   "cell_type": "markdown",
   "id": "6979e7dd",
   "metadata": {
    "papermill": {
     "duration": 0.009858,
     "end_time": "2025-09-05T08:12:38.106591",
     "exception": false,
     "start_time": "2025-09-05T08:12:38.096733",
     "status": "completed"
    },
    "tags": []
   },
   "source": [
    "This code groups the dataset by transmission type and year, counts the number of cars in each group, and then sorts them in descending order to highlight the most common transmission–year combinations."
   ]
  },
  {
   "cell_type": "code",
   "execution_count": 26,
   "id": "ea9c37f0",
   "metadata": {
    "execution": {
     "iopub.execute_input": "2025-09-05T08:12:38.127781Z",
     "iopub.status.busy": "2025-09-05T08:12:38.127461Z",
     "iopub.status.idle": "2025-09-05T08:12:38.137124Z",
     "shell.execute_reply": "2025-09-05T08:12:38.136162Z"
    },
    "papermill": {
     "duration": 0.022077,
     "end_time": "2025-09-05T08:12:38.138614",
     "exception": false,
     "start_time": "2025-09-05T08:12:38.116537",
     "status": "completed"
    },
    "tags": []
   },
   "outputs": [
    {
     "data": {
      "text/plain": [
       "seller_type       year\n",
       "Individual        2012    272\n",
       "                  2017    243\n",
       "                  2015    235\n",
       "                  2014    234\n",
       "                  2018    228\n",
       "                  2013    213\n",
       "                  2011    208\n",
       "                  2016    202\n",
       "                  2010    187\n",
       "                  2009    150\n",
       "                  2019    141\n",
       "                  2008    120\n",
       "                  2007    102\n",
       "Dealer            2017     94\n",
       "                  2014     86\n",
       "Individual        2006     86\n",
       "Dealer            2015     85\n",
       "                  2013     84\n",
       "                  2016     74\n",
       "                  2012     66\n",
       "                  2018     64\n",
       "Individual        2005     56\n",
       "Dealer            2011     39\n",
       "Individual        2004     35\n",
       "                  2020     30\n",
       "Dealer            2010     23\n",
       "Individual        2003     22\n",
       "Dealer            2019     21\n",
       "                  2009     19\n",
       "Individual        2002     18\n",
       "                  2001     15\n",
       "Dealer            2020     15\n",
       "                  2007     15\n",
       "Trustmark Dealer  2015     12\n",
       "Individual        2000     11\n",
       "Dealer            2008      9\n",
       "Trustmark Dealer  2017      9\n",
       "Individual        1999      9\n",
       "                  1998      8\n",
       "Dealer            2006      7\n",
       "Trustmark Dealer  2016      7\n",
       "Dealer            2005      5\n",
       "Trustmark Dealer  2018      3\n",
       "Individual        1997      3\n",
       "Dealer            2004      3\n",
       "Individual        1996      2\n",
       "Dealer            2000      1\n",
       "Individual        1995      1\n",
       "Trustmark Dealer  2013      1\n",
       "                  2014      1\n",
       "Individual        1992      1\n",
       "Dealer            2001      1\n",
       "                  1998      1\n",
       "Name: brand, dtype: int64"
      ]
     },
     "execution_count": 26,
     "metadata": {},
     "output_type": "execute_result"
    }
   ],
   "source": [
    "a = df.groupby(['seller_type', 'year'])['brand'].count()\n",
    "a.sort_values(ascending=False)"
   ]
  },
  {
   "cell_type": "markdown",
   "id": "eb52432e",
   "metadata": {
    "papermill": {
     "duration": 0.01007,
     "end_time": "2025-09-05T08:12:38.159887",
     "exception": false,
     "start_time": "2025-09-05T08:12:38.149817",
     "status": "completed"
    },
    "tags": []
   },
   "source": [
    "This code groups the dataset by seller type and year, counts how many cars are in each group, and then sorts them in descending order to show the most frequent seller type–year combinations first."
   ]
  },
  {
   "cell_type": "code",
   "execution_count": 27,
   "id": "e76ec95f",
   "metadata": {
    "execution": {
     "iopub.execute_input": "2025-09-05T08:12:38.181650Z",
     "iopub.status.busy": "2025-09-05T08:12:38.181059Z",
     "iopub.status.idle": "2025-09-05T08:12:38.483869Z",
     "shell.execute_reply": "2025-09-05T08:12:38.482955Z"
    },
    "papermill": {
     "duration": 0.315468,
     "end_time": "2025-09-05T08:12:38.485419",
     "exception": false,
     "start_time": "2025-09-05T08:12:38.169951",
     "status": "completed"
    },
    "tags": []
   },
   "outputs": [
    {
     "data": {
      "image/png": "[encoded data removed]",
      "text/plain": [
       "<Figure size 640x480 with 1 Axes>"
      ]
     },
     "metadata": {},
     "output_type": "display_data"
    }
   ],
   "source": [
    "sns.countplot(data=df, x='brand', palette='coolwarm')\n",
    "plt.xticks(rotation=90)\n",
    "plt.xlabel('brand', fontsize=10, color='black')\n",
    "plt.ylabel('brand', fontsize=10, color='black')\n",
    "plt.title('BRAND COUNT', color='black')\n",
    "plt.show()"
   ]
  },
  {
   "cell_type": "markdown",
   "id": "93dc5571",
   "metadata": {
    "papermill": {
     "duration": 0.011585,
     "end_time": "2025-09-05T08:12:38.508800",
     "exception": false,
     "start_time": "2025-09-05T08:12:38.497215",
     "status": "completed"
    },
    "tags": []
   },
   "source": [
    "This code creates a count plot of car brands, showing how many cars belong to each brand in the dataset, with customized axis labels, rotated x-axis names for readability, and a title **BRAND COUNT**."
   ]
  },
  {
   "cell_type": "code",
   "execution_count": 28,
   "id": "daa6a373",
   "metadata": {
    "execution": {
     "iopub.execute_input": "2025-09-05T08:12:38.532374Z",
     "iopub.status.busy": "2025-09-05T08:12:38.531595Z",
     "iopub.status.idle": "2025-09-05T08:12:38.682031Z",
     "shell.execute_reply": "2025-09-05T08:12:38.681231Z"
    },
    "papermill": {
     "duration": 0.16361,
     "end_time": "2025-09-05T08:12:38.683359",
     "exception": false,
     "start_time": "2025-09-05T08:12:38.519749",
     "status": "completed"
    },
    "tags": []
   },
   "outputs": [
    {
     "data": {
      "image/png": "[encoded data removed]",
      "text/plain": [
       "<Figure size 640x480 with 1 Axes>"
      ]
     },
     "metadata": {},
     "output_type": "display_data"
    }
   ],
   "source": [
    "sns.countplot(data=df, x='fuel', palette='coolwarm')\n",
    "plt.xticks(rotation=90)\n",
    "plt.xlabel('fuel', fontsize=10, color='black')\n",
    "plt.ylabel('count', fontsize=10, color='black')\n",
    "plt.title('FUEL COUNT', color='black')\n",
    "plt.show()"
   ]
  },
  {
   "cell_type": "markdown",
   "id": "fc5b275a",
   "metadata": {
    "papermill": {
     "duration": 0.011469,
     "end_time": "2025-09-05T08:12:38.706570",
     "exception": false,
     "start_time": "2025-09-05T08:12:38.695101",
     "status": "completed"
    },
    "tags": []
   },
   "source": [
    "This code plots a count chart of fuel types, showing how many cars run on each fuel category (like Petrol, Diesel, CNG, etc.) with labeled axes and the title **FUEL COUNT**."
   ]
  },
  {
   "cell_type": "code",
   "execution_count": 29,
   "id": "157c5a3d",
   "metadata": {
    "execution": {
     "iopub.execute_input": "2025-09-05T08:12:38.731497Z",
     "iopub.status.busy": "2025-09-05T08:12:38.731185Z",
     "iopub.status.idle": "2025-09-05T08:12:38.880656Z",
     "shell.execute_reply": "2025-09-05T08:12:38.879864Z"
    },
    "papermill": {
     "duration": 0.163698,
     "end_time": "2025-09-05T08:12:38.882167",
     "exception": false,
     "start_time": "2025-09-05T08:12:38.718469",
     "status": "completed"
    },
    "tags": []
   },
   "outputs": [
    {
     "data": {
      "image/png": "[encoded data removed]",
      "text/plain": [
       "<Figure size 640x480 with 1 Axes>"
      ]
     },
     "metadata": {},
     "output_type": "display_data"
    }
   ],
   "source": [
    "sns.countplot(data=df, x='owner', palette='coolwarm')\n",
    "plt.xticks(rotation=90)\n",
    "plt.xlabel('owner', fontsize=10, color='black')\n",
    "plt.ylabel('count', fontsize=10, color='black')\n",
    "plt.title('OWNER COUNT', color='black')\n",
    "plt.show()"
   ]
  },
  {
   "cell_type": "markdown",
   "id": "94ee256e",
   "metadata": {
    "papermill": {
     "duration": 0.011534,
     "end_time": "2025-09-05T08:12:38.905665",
     "exception": false,
     "start_time": "2025-09-05T08:12:38.894131",
     "status": "completed"
    },
    "tags": []
   },
   "source": [
    "This code generates a count plot of car ownership categories, showing how many cars belong to each type of owner (First, Second, Third, Fourth & Above, Test Drive Car) with labeled axes and the title **OWNER** **COUNT.**"
   ]
  },
  {
   "cell_type": "code",
   "execution_count": 30,
   "id": "70f845bd",
   "metadata": {
    "execution": {
     "iopub.execute_input": "2025-09-05T08:12:38.930424Z",
     "iopub.status.busy": "2025-09-05T08:12:38.930037Z",
     "iopub.status.idle": "2025-09-05T08:12:39.066067Z",
     "shell.execute_reply": "2025-09-05T08:12:39.065242Z"
    },
    "papermill": {
     "duration": 0.150189,
     "end_time": "2025-09-05T08:12:39.067513",
     "exception": false,
     "start_time": "2025-09-05T08:12:38.917324",
     "status": "completed"
    },
    "tags": []
   },
   "outputs": [
    {
     "data": {
      "image/png": "[encoded data removed]",
      "text/plain": [
       "<Figure size 640x480 with 1 Axes>"
      ]
     },
     "metadata": {},
     "output_type": "display_data"
    }
   ],
   "source": [
    "sns.countplot(data=df, x='transmission',palette='coolwarm')\n",
    "plt.xticks(rotation=90)\n",
    "plt.xlabel('transmission', fontsize=10, color='black')\n",
    "plt.ylabel('count', fontsize=10, color='black')\n",
    "plt.title('TRANSMISSION COUNT', color='black')\n",
    "plt.show()"
   ]
  },
  {
   "cell_type": "code",
   "execution_count": 31,
   "id": "2155be99",
   "metadata": {
    "execution": {
     "iopub.execute_input": "2025-09-05T08:12:39.094500Z",
     "iopub.status.busy": "2025-09-05T08:12:39.093741Z",
     "iopub.status.idle": "2025-09-05T08:12:39.398004Z",
     "shell.execute_reply": "2025-09-05T08:12:39.397160Z"
    },
    "papermill": {
     "duration": 0.319373,
     "end_time": "2025-09-05T08:12:39.399554",
     "exception": false,
     "start_time": "2025-09-05T08:12:39.080181",
     "status": "completed"
    },
    "tags": []
   },
   "outputs": [
    {
     "name": "stderr",
     "output_type": "stream",
     "text": [
      "/usr/local/lib/python3.11/dist-packages/seaborn/_oldcore.py:1119: FutureWarning: use_inf_as_na option is deprecated and will be removed in a future version. Convert inf values to NaN before operating instead.\n",
      "  with pd.option_context('mode.use_inf_as_na', True):\n"
     ]
    },
    {
     "data": {
      "text/plain": [
       "<Axes: xlabel='selling_price', ylabel='Count'>"
      ]
     },
     "execution_count": 31,
     "metadata": {},
     "output_type": "execute_result"
    },
    {
     "data": {
      "image/png": "[encoded data removed]",
      "text/plain": [
       "<Figure size 640x480 with 1 Axes>"
      ]
     },
     "metadata": {},
     "output_type": "display_data"
    }
   ],
   "source": [
    "sns.histplot(df['selling_price'], bins=50, kde=True, color='blue')"
   ]
  },
  {
   "cell_type": "markdown",
   "id": "cb70a974",
   "metadata": {
    "papermill": {
     "duration": 0.012758,
     "end_time": "2025-09-05T08:12:39.426086",
     "exception": false,
     "start_time": "2025-09-05T08:12:39.413328",
     "status": "completed"
    },
    "tags": []
   },
   "source": [
    "Shows how car selling prices are distributed across the dataset."
   ]
  },
  {
   "cell_type": "code",
   "execution_count": 32,
   "id": "2c2608b8",
   "metadata": {
    "execution": {
     "iopub.execute_input": "2025-09-05T08:12:39.453833Z",
     "iopub.status.busy": "2025-09-05T08:12:39.453062Z",
     "iopub.status.idle": "2025-09-05T08:12:39.699719Z",
     "shell.execute_reply": "2025-09-05T08:12:39.698981Z"
    },
    "papermill": {
     "duration": 0.261698,
     "end_time": "2025-09-05T08:12:39.701070",
     "exception": false,
     "start_time": "2025-09-05T08:12:39.439372",
     "status": "completed"
    },
    "tags": []
   },
   "outputs": [
    {
     "data": {
      "text/plain": [
       "<Axes: xlabel='fuel', ylabel='selling_price'>"
      ]
     },
     "execution_count": 32,
     "metadata": {},
     "output_type": "execute_result"
    },
    {
     "data": {
      "image/png": "[encoded data removed]",
      "text/plain": [
       "<Figure size 640x480 with 1 Axes>"
      ]
     },
     "metadata": {},
     "output_type": "display_data"
    }
   ],
   "source": [
    "sns.barplot(data=df, x='fuel', y='selling_price', estimator=np.mean, palette='viridis')"
   ]
  },
  {
   "cell_type": "markdown",
   "id": "39e4a053",
   "metadata": {
    "papermill": {
     "duration": 0.012864,
     "end_time": "2025-09-05T08:12:39.727390",
     "exception": false,
     "start_time": "2025-09-05T08:12:39.714526",
     "status": "completed"
    },
    "tags": []
   },
   "source": [
    "Compares the average selling price of cars for each fuel type."
   ]
  },
  {
   "cell_type": "code",
   "execution_count": 33,
   "id": "579d00e1",
   "metadata": {
    "execution": {
     "iopub.execute_input": "2025-09-05T08:12:39.754865Z",
     "iopub.status.busy": "2025-09-05T08:12:39.754544Z",
     "iopub.status.idle": "2025-09-05T08:12:39.883230Z",
     "shell.execute_reply": "2025-09-05T08:12:39.882360Z"
    },
    "papermill": {
     "duration": 0.144133,
     "end_time": "2025-09-05T08:12:39.884598",
     "exception": false,
     "start_time": "2025-09-05T08:12:39.740465",
     "status": "completed"
    },
    "tags": []
   },
   "outputs": [
    {
     "data": {
      "text/plain": [
       "<Axes: xlabel='transmission', ylabel='selling_price'>"
      ]
     },
     "execution_count": 33,
     "metadata": {},
     "output_type": "execute_result"
    },
    {
     "data": {
      "image/png": "[encoded data removed]",
      "text/plain": [
       "<Figure size 640x480 with 1 Axes>"
      ]
     },
     "metadata": {},
     "output_type": "display_data"
    }
   ],
   "source": [
    "sns.boxplot(data=df, x='transmission', y='selling_price', palette='Set2')"
   ]
  },
  {
   "cell_type": "markdown",
   "id": "cb1703e8",
   "metadata": {
    "papermill": {
     "duration": 0.013568,
     "end_time": "2025-09-05T08:12:39.912057",
     "exception": false,
     "start_time": "2025-09-05T08:12:39.898489",
     "status": "completed"
    },
    "tags": []
   },
   "source": [
    "Displays the variation in selling price between manual and automatic cars."
   ]
  },
  {
   "cell_type": "code",
   "execution_count": 34,
   "id": "e771d535",
   "metadata": {
    "execution": {
     "iopub.execute_input": "2025-09-05T08:12:39.940600Z",
     "iopub.status.busy": "2025-09-05T08:12:39.940305Z",
     "iopub.status.idle": "2025-09-05T08:12:40.154717Z",
     "shell.execute_reply": "2025-09-05T08:12:40.153880Z"
    },
    "papermill": {
     "duration": 0.230311,
     "end_time": "2025-09-05T08:12:40.156093",
     "exception": false,
     "start_time": "2025-09-05T08:12:39.925782",
     "status": "completed"
    },
    "tags": []
   },
   "outputs": [
    {
     "data": {
      "text/plain": [
       "<Axes: >"
      ]
     },
     "execution_count": 34,
     "metadata": {},
     "output_type": "execute_result"
    },
    {
     "data": {
      "image/png": "[encoded data removed]",
      "text/plain": [
       "<Figure size 640x480 with 2 Axes>"
      ]
     },
     "metadata": {},
     "output_type": "display_data"
    }
   ],
   "source": [
    "sns.heatmap(df[['year','selling_price','km_driven']].corr(), annot=True, cmap='coolwarm')"
   ]
  },
  {
   "cell_type": "markdown",
   "id": "9b9e8288",
   "metadata": {
    "papermill": {
     "duration": 0.014096,
     "end_time": "2025-09-05T08:12:40.184854",
     "exception": false,
     "start_time": "2025-09-05T08:12:40.170758",
     "status": "completed"
    },
    "tags": []
   },
   "source": [
    "Highlights the correlation between year, selling price, and kilometers driven."
   ]
  },
  {
   "cell_type": "code",
   "execution_count": 35,
   "id": "72507cbd",
   "metadata": {
    "execution": {
     "iopub.execute_input": "2025-09-05T08:12:40.214659Z",
     "iopub.status.busy": "2025-09-05T08:12:40.214379Z",
     "iopub.status.idle": "2025-09-05T08:12:40.400937Z",
     "shell.execute_reply": "2025-09-05T08:12:40.400167Z"
    },
    "papermill": {
     "duration": 0.203198,
     "end_time": "2025-09-05T08:12:40.402330",
     "exception": false,
     "start_time": "2025-09-05T08:12:40.199132",
     "status": "completed"
    },
    "tags": []
   },
   "outputs": [
    {
     "data": {
      "text/plain": [
       "(array([0, 1, 2, 3, 4, 5, 6, 7, 8, 9]),\n",
       " [Text(0, 0, 'Maruti'),\n",
       "  Text(1, 0, 'Hyundai'),\n",
       "  Text(2, 0, 'Mahindra'),\n",
       "  Text(3, 0, 'Tata'),\n",
       "  Text(4, 0, 'Ford'),\n",
       "  Text(5, 0, 'Honda'),\n",
       "  Text(6, 0, 'Toyota'),\n",
       "  Text(7, 0, 'Chevrolet'),\n",
       "  Text(8, 0, 'Renault'),\n",
       "  Text(9, 0, 'Volkswagen')])"
      ]
     },
     "execution_count": 35,
     "metadata": {},
     "output_type": "execute_result"
    },
    {
     "data": {
      "image/png": "[encoded data removed]",
      "text/plain": [
       "<Figure size 640x480 with 1 Axes>"
      ]
     },
     "metadata": {},
     "output_type": "display_data"
    }
   ],
   "source": [
    "top_brands = df['brand'].value_counts().head(10)\n",
    "sns.barplot(x=top_brands.index, y=top_brands.values, palette='coolwarm')\n",
    "plt.xticks(rotation = 60)"
   ]
  },
  {
   "cell_type": "markdown",
   "id": "0d4f603d",
   "metadata": {
    "papermill": {
     "duration": 0.014546,
     "end_time": "2025-09-05T08:12:40.432020",
     "exception": false,
     "start_time": "2025-09-05T08:12:40.417474",
     "status": "completed"
    },
    "tags": []
   },
   "source": [
    "Shows the top 10 most common car brands in the dataset."
   ]
  },
  {
   "cell_type": "markdown",
   "id": "7850cb71",
   "metadata": {
    "papermill": {
     "duration": 0.014486,
     "end_time": "2025-09-05T08:12:40.461285",
     "exception": false,
     "start_time": "2025-09-05T08:12:40.446799",
     "status": "completed"
    },
    "tags": []
   },
   "source": [
    "This project analyzes a used car dataset from Car Dekho, containing details like car name, year, selling price, kilometers driven, fuel type, transmission, seller type, and ownership. Through EDA (Exploratory Data Analysis), we explored data quality, identified brand-wise and fuel-type trends, examined ownership patterns, and studied how features like year, km driven, and transmission impact car prices. Visualizations such as count plots, boxplots, and heatmaps provided key insights into pricing trends and car market behavior."
   ]
  },
  {
   "cell_type": "markdown",
   "id": "06a1c4c9",
   "metadata": {
    "papermill": {
     "duration": 0.014303,
     "end_time": "2025-09-05T08:12:40.490076",
     "exception": false,
     "start_time": "2025-09-05T08:12:40.475773",
     "status": "completed"
    },
    "tags": []
   },
   "source": [
    "**Thank You.**"
   ]
  }
 ],
 "metadata": {
  "kaggle": {
   "accelerator": "none",
   "dataSources": [
    {
     "datasetId": 8207028,
     "sourceId": 12967397,
     "sourceType": "datasetVersion"
    }
   ],
   "dockerImageVersionId": 31089,
   "isGpuEnabled": false,
   "isInternetEnabled": true,
   "language": "python",
   "sourceType": "notebook"
  },
  "kernelspec": {
   "display_name": "Python 3",
   "language": "python",
   "name": "python3"
  },
  "language_info": {
   "codemirror_mode": {
    "name": "ipython",
    "version": 3
   },
   "file_extension": ".py",
   "mimetype": "text/x-python",
   "name": "python",
   "nbconvert_exporter": "python",
   "pygments_lexer": "ipython3",
   "version": "3.11.13"
  },
  "papermill": {
   "default_parameters": {},
   "duration": 12.810927,
   "end_time": "2025-09-05T08:12:41.223992",
   "environment_variables": {},
   "exception": null,
   "input_path": "__notebook__.ipynb",
   "output_path": "__notebook__.ipynb",
   "parameters": {},
   "start_time": "2025-09-05T08:12:28.413065",
   "version": "2.6.0"
  }
 },
 "nbformat": 4,
 "nbformat_minor": 5
}
